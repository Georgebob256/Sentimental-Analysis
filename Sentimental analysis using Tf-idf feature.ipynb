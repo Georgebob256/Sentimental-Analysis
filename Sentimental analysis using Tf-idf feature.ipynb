{
 "cells": [
  {
   "cell_type": "code",
   "execution_count": 1,
   "metadata": {},
   "outputs": [],
   "source": [
    "#importing the Packages\n",
    "import pandas as pd\n",
    "import nltk\n",
    "from nltk import *\n",
    "from nltk.corpus import stopwords\n",
    "from nltk.tokenize import word_tokenize\n",
    "from nltk.stem import WordNetLemmatizer\n",
    "from nltk.stem import PorterStemmer\n",
    "from random import shuffle\n",
    "\n",
    "\n",
    "from nltk.classify import ClassifierI\n",
    "from statistics import mode\n",
    "from sklearn.metrics import accuracy_score\n",
    "from sklearn.model_selection import StratifiedKFold\n",
    "from sklearn.feature_extraction.text import TfidfVectorizer\n",
    "from sklearn.naive_bayes import MultinomialNB, BernoulliNB\n",
    "from sklearn.svm import LinearSVC\n",
    "from sklearn.linear_model import SGDClassifier\n",
    "from sklearn.linear_model import LogisticRegression\n",
    "\n",
    "#Type of stemmer used and allowed word types\n",
    "ps = PorterStemmer()\n",
    "lemmatizer = WordNetLemmatizer()\n",
    "stop_words = set(stopwords.words(\"english\"))\n",
    "stop_words.update(('@','.', '..', '...', '....', ':', ':-)', ':)', '!', '!!', '!!!', '?', '??',','))\n",
    "allowed_word_types = [\"J\",\"R\",\"V\",\"N\"]    #j is adjective, r is adverb, v is verb and n is noun\n"
   ]
  },
  {
   "cell_type": "code",
   "execution_count": 2,
   "metadata": {},
   "outputs": [],
   "source": [
    "# Preprocessing the data\n",
    "document = []\n",
    "untokenised_doc = []\n",
    "labels = []\n",
    "for i, chunk in enumerate(pd.read_csv(\"Twitter.csv\", chunksize = 1000,header = None)):\n",
    "    a = chunk.iloc[:,0]\n",
    "    for j in range(len(a)):\n",
    "        words = []\n",
    "        stemmed_words = []\n",
    "        lemm_words = []\n",
    "        df1 = str(chunk.iloc[j,5])\n",
    "        words = word_tokenize(df1)\n",
    "        for w in words:\n",
    "            stemmed_words.append(ps.stem(w))\n",
    "        for w in stemmed_words:\n",
    "            lemm_words.append(lemmatizer.lemmatize(w))\n",
    "        untokenised_doc.append(\" \".join(lemm_words))\n",
    "        labels.append(chunk.iloc[j,0])"
   ]
  },
  {
   "cell_type": "code",
   "execution_count": 3,
   "metadata": {},
   "outputs": [],
   "source": [
    "# Stratified K-fold\n",
    "kf = StratifiedKFold(n_splits=10)\n",
    "\n",
    "for train_number, test_number in kf.split(untokenised_doc,labels):\n",
    "    X_train = [untokenised_doc[i] for i in train_number]\n",
    "    X_test = [untokenised_doc[i] for i in test_number]\n",
    "    y_train = [labels[i] for i in train_number]\n",
    "    y_test = [labels[i] for i in test_number]\n",
    "    vectorizer = TfidfVectorizer(min_df=5, max_df = 0.8, sublinear_tf=True, use_idf=True,stop_words = stop_words)\n",
    "    train_doc_tf_idf = vectorizer.fit_transform(X_train) \n",
    "    test_doc_tf_idf = vectorizer.transform(X_test)"
   ]
  },
  {
   "cell_type": "code",
   "execution_count": 4,
   "metadata": {},
   "outputs": [],
   "source": [
    "from sklearn.naive_bayes import MultinomialNB, BernoulliNB\n",
    "from sklearn.svm import LinearSVC\n",
    "from sklearn.linear_model import SGDClassifier\n",
    "from sklearn.linear_model import LogisticRegression\n",
    "\n",
    "model1 = LinearSVC()\n",
    "model2 = MultinomialNB()\n",
    "model3 = BernoulliNB()\n",
    "model4 = SGDClassifier()\n",
    "model5 = LogisticRegression()"
   ]
  },
  {
   "cell_type": "code",
   "execution_count": 5,
   "metadata": {},
   "outputs": [
    {
     "name": "stderr",
     "output_type": "stream",
     "text": [
      "/Users/georgeboben/anaconda3/lib/python3.6/site-packages/sklearn/linear_model/stochastic_gradient.py:128: FutureWarning: max_iter and tol parameters have been added in <class 'sklearn.linear_model.stochastic_gradient.SGDClassifier'> in 0.19. If both are left unset, they default to max_iter=5 and tol=None. If tol is not None, max_iter defaults to max_iter=1000. From 0.21, default max_iter will be 1000, and default tol will be 1e-3.\n",
      "  \"and default tol will be 1e-3.\" % type(self), FutureWarning)\n"
     ]
    },
    {
     "data": {
      "text/plain": [
       "LogisticRegression(C=1.0, class_weight=None, dual=False, fit_intercept=True,\n",
       "          intercept_scaling=1, max_iter=100, multi_class='ovr', n_jobs=1,\n",
       "          penalty='l2', random_state=None, solver='liblinear', tol=0.0001,\n",
       "          verbose=0, warm_start=False)"
      ]
     },
     "execution_count": 5,
     "metadata": {},
     "output_type": "execute_result"
    }
   ],
   "source": [
    "model1.fit(train_doc_tf_idf, y_train)\n",
    "model2.fit(train_doc_tf_idf, y_train)\n",
    "model3.fit(train_doc_tf_idf, y_train)\n",
    "model4.fit(train_doc_tf_idf, y_train)\n",
    "model5.fit(train_doc_tf_idf, y_train)"
   ]
  },
  {
   "cell_type": "code",
   "execution_count": 6,
   "metadata": {},
   "outputs": [],
   "source": [
    "ypred1 = model1.predict(test_doc_tf_idf)\n",
    "ypred2 = model2.predict(test_doc_tf_idf)\n",
    "ypred3 = model3.predict(test_doc_tf_idf)\n",
    "ypred4 = model4.predict(test_doc_tf_idf)\n",
    "ypred5 = model5.predict(test_doc_tf_idf)"
   ]
  },
  {
   "cell_type": "code",
   "execution_count": 7,
   "metadata": {},
   "outputs": [],
   "source": [
    "result1 = accuracy_score(y_test, ypred1, normalize = True)\n",
    "result2 = accuracy_score(y_test, ypred2, normalize = True)\n",
    "result3 = accuracy_score(y_test, ypred3, normalize = True)\n",
    "result4 = accuracy_score(y_test, ypred4, normalize = True)\n",
    "result5 = accuracy_score(y_test, ypred5, normalize = True)"
   ]
  },
  {
   "cell_type": "code",
   "execution_count": 8,
   "metadata": {},
   "outputs": [
    {
     "name": "stdout",
     "output_type": "stream",
     "text": [
      "0.6965448172258387\n",
      "0.7050575863795694\n",
      "0.7025538307461192\n",
      "0.699549323985979\n",
      "0.700550826239359\n"
     ]
    }
   ],
   "source": [
    "print(result1)\n",
    "print(result2)\n",
    "print(result3)\n",
    "print(result4)\n",
    "print(result5)"
   ]
  },
  {
   "cell_type": "code",
   "execution_count": null,
   "metadata": {},
   "outputs": [],
   "source": []
  }
 ],
 "metadata": {
  "kernelspec": {
   "display_name": "Python 3",
   "language": "python",
   "name": "python3"
  },
  "language_info": {
   "codemirror_mode": {
    "name": "ipython",
    "version": 3
   },
   "file_extension": ".py",
   "mimetype": "text/x-python",
   "name": "python",
   "nbconvert_exporter": "python",
   "pygments_lexer": "ipython3",
   "version": "3.6.5"
  }
 },
 "nbformat": 4,
 "nbformat_minor": 2
}
