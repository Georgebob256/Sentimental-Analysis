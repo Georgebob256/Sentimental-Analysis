{
 "cells": [
  {
   "cell_type": "code",
   "execution_count": 1,
   "metadata": {},
   "outputs": [],
   "source": [
    "#importing the Packages\n",
    "import pandas as pd\n",
    "import nltk\n",
    "from nltk import *\n",
    "from nltk.corpus import stopwords\n",
    "from nltk.tokenize import word_tokenize\n",
    "from nltk.stem import WordNetLemmatizer\n",
    "from nltk.stem import PorterStemmer\n",
    "from random import shuffle\n",
    "from nltk.classify.scikitlearn import SklearnClassifier\n",
    "from sklearn.naive_bayes import MultinomialNB, BernoulliNB\n",
    "from sklearn.linear_model import LogisticRegression\n",
    "from sklearn.linear_model import SGDClassifier\n",
    "\n",
    "from nltk.classify import ClassifierI\n",
    "from statistics import mode\n",
    "\n",
    "#Type of stemmer used and allowed word types\n",
    "ps = PorterStemmer()\n",
    "lemmatizer = WordNetLemmatizer()\n",
    "stop_words = set(stopwords.words(\"english\"))\n",
    "stop_words.update(('.', '..', '...', '....', ':', ':-)', ':)', '!', '!!', '!!!', '?', '??',','))\n",
    "allowed_word_types = [\"J\",\"R\",\"V\",\"N\"]    #j is adjective, r is adverb, v is verb and n is noun\n"
   ]
  },
  {
   "cell_type": "code",
   "execution_count": 2,
   "metadata": {},
   "outputs": [],
   "source": [
    "#The Class declaration\n",
    "class VoteClassifier(ClassifierI):\n",
    "    def __init__(self, *classifiers):\n",
    "        self._classifiers = classifiers\n",
    "        \n",
    "    def classify(self, features):\n",
    "        votes = []\n",
    "        for c in self._classifiers:\n",
    "            v = c.classify(features)\n",
    "            votes.append(v)\n",
    "        return mode(votes)\n",
    "    \n",
    "    def confidence(self, features):\n",
    "        votes = []\n",
    "        for c in self._classifiers:\n",
    "            v = c.classify(features)\n",
    "            votes.append(v)\n",
    "        \n",
    "        choice_votes = votes.count(mode(votes))\n",
    "        conf = choice_votes / len(votes)\n",
    "        return conf"
   ]
  },
  {
   "cell_type": "code",
   "execution_count": 3,
   "metadata": {},
   "outputs": [],
   "source": [
    "#Building the bag of words\n",
    "document =[]\n",
    "bow = []\n",
    "\n",
    "for i, chunk in enumerate(pd.read_csv('Twitter.csv', chunksize = 1000, header = None )):\n",
    "    a = chunk.iloc[:,0]\n",
    "    for j in range(len(a)):\n",
    "        if (a.iloc[j] == 0):\n",
    "            words = []\n",
    "            filtered_words = []\n",
    "            stemmed_words = []\n",
    "            lemm_words = []\n",
    "            df1 = str(chunk.iloc[j,5])\n",
    "            document.append((df1,a.iloc[j]))\n",
    "            words = word_tokenize(df1)\n",
    "            for w in words:\n",
    "                stemmed_words.append(ps.stem(w))\n",
    "            for w in stemmed_words:\n",
    "                lemm_words.append(lemmatizer.lemmatize(w))\n",
    "            #pos = nltk.pos_tag(lemm_words)\n",
    "            #for w in pos:\n",
    "                #if w[1][0] in allowed_word_types:\n",
    "                    #bow.append(w[0].lower())\n",
    "            for w in lemm_words:\n",
    "                bow.append(w.lower())\n",
    "                \n",
    "                \n",
    "        if (a.iloc[j] == 4):\n",
    "            words = []\n",
    "            filtered_words = []\n",
    "            stemmed_words = []\n",
    "            lemm_words = []\n",
    "            df1 = str(chunk.iloc[j,5])\n",
    "            document.append((df1,a.iloc[j]))\n",
    "            words = word_tokenize(df1)\n",
    "            for w in words:\n",
    "                stemmed_words.append(ps.stem(w))\n",
    "            for w in stemmed_words:\n",
    "                lemm_words.append(lemmatizer.lemmatize(w))\n",
    "            #pos = nltk.pos_tag(lemm_words)\n",
    "            #for w in pos:\n",
    "             #   if w[1][0] in allowed_word_types:\n",
    "             #     bow.append(w[0].lower())\n",
    "            for w in lemm_words:\n",
    "                bow.append(w.lower())\n",
    "                    \n",
    "freq_words = FreqDist(bow)\n",
    "word_features = list(freq_words.keys())[:5000]\n"
   ]
  },
  {
   "cell_type": "code",
   "execution_count": 4,
   "metadata": {},
   "outputs": [
    {
     "name": "stdout",
     "output_type": "stream",
     "text": [
      "260464\n",
      "5000\n"
     ]
    }
   ],
   "source": [
    "print (len(bow))\n",
    "print (len(word_features))"
   ]
  },
  {
   "cell_type": "code",
   "execution_count": 5,
   "metadata": {},
   "outputs": [],
   "source": [
    "def find_features(document):\n",
    "    words = []\n",
    "    filtered_words = []\n",
    "    stemmed_words = []\n",
    "    lemm_words = []\n",
    "    words = word_tokenize(document)\n",
    "    for w in words:\n",
    "        stemmed_words.append(ps.stem(w))\n",
    "    for w in stemmed_words:\n",
    "        lemm_words.append(lemmatizer.lemmatize(w))\n",
    "    \n",
    "    features = {}\n",
    "    for w in word_features:\n",
    "        features[w] = (w in lemm_words)\n",
    "\n",
    "    return features "
   ]
  },
  {
   "cell_type": "code",
   "execution_count": 6,
   "metadata": {},
   "outputs": [
    {
     "name": "stdout",
     "output_type": "stream",
     "text": [
      "19982\n"
     ]
    }
   ],
   "source": [
    "#Finding the features for all the tweets\n",
    "featuresets = []\n",
    "\n",
    "for (tweet, category) in document:\n",
    "    featuresets.append((find_features(tweet),category))\n",
    "\n",
    "l = len(featuresets)\n",
    "print (l)"
   ]
  },
  {
   "cell_type": "code",
   "execution_count": 8,
   "metadata": {},
   "outputs": [],
   "source": [
    "del document[:]"
   ]
  },
  {
   "cell_type": "code",
   "execution_count": 9,
   "metadata": {},
   "outputs": [],
   "source": [
    "from random import shuffle\n",
    "shuffle(featuresets)\n",
    "\n",
    "training_set = featuresets[:16000]\n",
    "testing_set = featuresets[16000:]"
   ]
  },
  {
   "cell_type": "code",
   "execution_count": 10,
   "metadata": {},
   "outputs": [
    {
     "name": "stdout",
     "output_type": "stream",
     "text": [
      " Naive Bayes accuracy percent 70.56755399296836\n"
     ]
    }
   ],
   "source": [
    "clf = nltk.NaiveBayesClassifier.train(training_set)\n",
    "print(\" Naive Bayes accuracy percent\",(nltk.classify.accuracy(clf, testing_set))*100)"
   ]
  },
  {
   "cell_type": "code",
   "execution_count": 11,
   "metadata": {},
   "outputs": [
    {
     "name": "stdout",
     "output_type": "stream",
     "text": [
      "Multinomial Naive Bayes accuracy percent 71.99899547965846\n",
      "Bernoulli Naive Bayes accuracy percent 70.69311903566047\n"
     ]
    }
   ],
   "source": [
    "MNB_classifier = SklearnClassifier(MultinomialNB())\n",
    "MNB_classifier.train(training_set)\n",
    "print(\"Multinomial Naive Bayes accuracy percent\",(nltk.classify.accuracy(MNB_classifier, testing_set))*100)\n",
    "\n",
    "\n",
    "BNB_classifier = SklearnClassifier(BernoulliNB())\n",
    "BNB_classifier.train(training_set)\n",
    "print(\"Bernoulli Naive Bayes accuracy percent\",(nltk.classify.accuracy(BNB_classifier, testing_set))*100)"
   ]
  },
  {
   "cell_type": "code",
   "execution_count": 12,
   "metadata": {},
   "outputs": [
    {
     "name": "stdout",
     "output_type": "stream",
     "text": [
      "Logistic Regression accuracy percent 72.95328980411854\n"
     ]
    }
   ],
   "source": [
    "LogisticRegression_classifier = SklearnClassifier(LogisticRegression())\n",
    "LogisticRegression_classifier.train(training_set)\n",
    "print(\"Logistic Regression accuracy percent\",(nltk.classify.accuracy(LogisticRegression_classifier, testing_set))*100)"
   ]
  },
  {
   "cell_type": "code",
   "execution_count": 13,
   "metadata": {},
   "outputs": [
    {
     "name": "stderr",
     "output_type": "stream",
     "text": [
      "/Users/georgeboben/anaconda3/lib/python3.6/site-packages/sklearn/linear_model/stochastic_gradient.py:128: FutureWarning: max_iter and tol parameters have been added in <class 'sklearn.linear_model.stochastic_gradient.SGDClassifier'> in 0.19. If both are left unset, they default to max_iter=5 and tol=None. If tol is not None, max_iter defaults to max_iter=1000. From 0.21, default max_iter will be 1000, and default tol will be 1e-3.\n",
      "  \"and default tol will be 1e-3.\" % type(self), FutureWarning)\n"
     ]
    },
    {
     "name": "stdout",
     "output_type": "stream",
     "text": [
      "Stochastic gradient decent accuracy percent 67.02661978905073\n"
     ]
    }
   ],
   "source": [
    "SGD_classifier = SklearnClassifier(SGDClassifier())\n",
    "SGD_classifier.train(training_set)\n",
    "print(\"Stochastic gradient decent accuracy percent\",(nltk.classify.accuracy(SGD_classifier, testing_set))*100)"
   ]
  },
  {
   "cell_type": "code",
   "execution_count": 14,
   "metadata": {},
   "outputs": [
    {
     "name": "stdout",
     "output_type": "stream",
     "text": [
      "Voted Classifier accuracy percent 72.40080361627324\n"
     ]
    }
   ],
   "source": [
    "voted_classifier = VoteClassifier(clf, \n",
    "                                  MNB_classifier, \n",
    "                                  BNB_classifier, \n",
    "                                  LogisticRegression_classifier, \n",
    "                                  SGD_classifier)\n",
    "print(\"Voted Classifier accuracy percent\",(nltk.classify.accuracy(voted_classifier,testing_set))*100)"
   ]
  },
  {
   "cell_type": "code",
   "execution_count": 15,
   "metadata": {},
   "outputs": [
    {
     "name": "stdout",
     "output_type": "stream",
     "text": [
      "Classification: 4 Confidence %: 80.0\n",
      "Classification: 4 Confidence %: 100.0\n",
      "Classification: 0 Confidence %: 100.0\n",
      "Classification: 4 Confidence %: 100.0\n",
      "Classification: 0 Confidence %: 100.0\n"
     ]
    }
   ],
   "source": [
    "print(\"Classification:\" , voted_classifier.classify(testing_set[1][0]), \"Confidence %:\", voted_classifier.confidence(testing_set[1][0])*100)\n",
    "print(\"Classification:\" , voted_classifier.classify(testing_set[2][0]), \"Confidence %:\", voted_classifier.confidence(testing_set[2][0])*100)\n",
    "print(\"Classification:\" , voted_classifier.classify(testing_set[3][0]), \"Confidence %:\", voted_classifier.confidence(testing_set[3][0])*100)\n",
    "print(\"Classification:\" , voted_classifier.classify(testing_set[4][0]), \"Confidence %:\", voted_classifier.confidence(testing_set[4][0])*100)\n",
    "print(\"Classification:\" , voted_classifier.classify(testing_set[5][0]), \"Confidence %:\", voted_classifier.confidence(testing_set[5][0])*100)"
   ]
  },
  {
   "cell_type": "code",
   "execution_count": 42,
   "metadata": {},
   "outputs": [],
   "source": [
    "def sentiment(text):\n",
    "    feats = find_features(text)\n",
    "    print(\"Classification:\" , voted_classifier.classify(feats), \"Confidence %:\", voted_classifier.confidence(feats)*100)"
   ]
  },
  {
   "cell_type": "code",
   "execution_count": 43,
   "metadata": {},
   "outputs": [
    {
     "name": "stdout",
     "output_type": "stream",
     "text": [
      "Classification: 4 Confidence %: 60.0\n",
      "None\n"
     ]
    }
   ],
   "source": [
    "text = \"The Movie was bad, but overall script was good\"\n",
    "print(sentiment(text))"
   ]
  },
  {
   "cell_type": "code",
   "execution_count": 33,
   "metadata": {},
   "outputs": [],
   "source": [
    "m = l-16001\n",
    "ypred = []\n",
    "yactual = []\n",
    "for i in range(m):\n",
    "    yprediction = voted_classifier.classify(testing_set[i][0])\n",
    "    ypred.append(yprediction)\n",
    "    yactual1 = testing_set[i][1]\n",
    "    yactual.append(yactual1)"
   ]
  },
  {
   "cell_type": "code",
   "execution_count": 34,
   "metadata": {},
   "outputs": [
    {
     "name": "stdout",
     "output_type": "stream",
     "text": [
      "[[1326  434]\n",
      " [ 665 1556]]\n",
      "\n",
      "Normalized confusion matrix\n",
      "[[0.75340909 0.24659091]\n",
      " [0.29941468 0.70058532]]\n"
     ]
    },
    {
     "data": {
      "image/png": "[encoded data removed]",
      "text/plain": [
       "<Figure size 432x288 with 2 Axes>"
      ]
     },
     "metadata": {},
     "output_type": "display_data"
    }
   ],
   "source": [
    "from sklearn.metrics import confusion_matrix\n",
    "import itertools\n",
    "import sklearn as skl_lm\n",
    "import matplotlib.pyplot as plt\n",
    "import numpy as np\n",
    "\n",
    "\n",
    "def plot_confusion_matrix(cm, classes,\n",
    "                          normalize=False,\n",
    "                          title='Confusion matrix',\n",
    "                          cmap=plt.cm.Blues):\n",
    "    \n",
    "    if normalize:\n",
    "        cm = cm.astype('float') / cm.sum(axis=1)[:, np.newaxis]\n",
    "        print(\"Normalized confusion matrix\")\n",
    "    else:\n",
    "        print('Confusion matrix, without normalization')\n",
    "\n",
    "    print(cm)\n",
    "\n",
    "    plt.imshow(cm, interpolation='nearest', cmap=cmap)\n",
    "    plt.title(title)\n",
    "    plt.colorbar()\n",
    "    tick_marks = np.arange(len(classes))\n",
    "    plt.xticks(tick_marks, classes, rotation=45)\n",
    "    plt.yticks(tick_marks, classes)\n",
    "\n",
    "    fmt = '.2f' if normalize else 'd'\n",
    "    thresh = cm.max() / 2.\n",
    "    for i, j in itertools.product(range(cm.shape[0]), range(cm.shape[1])):\n",
    "        plt.text(j, i, format(cm[i, j], fmt),\n",
    "                 horizontalalignment=\"center\",\n",
    "                 color=\"white\" if cm[i, j] > thresh else \"black\")\n",
    "\n",
    "    plt.tight_layout()\n",
    "    plt.ylabel('True label')\n",
    "    plt.xlabel('Predicted label')\n",
    "\n",
    "\n",
    "cm = confusion_matrix(ypred, yactual)\n",
    "cm_normalized = cm.astype('float') / cm.sum(axis=1)[:, np.newaxis]\n",
    "print(cm)\n",
    "print('')\n",
    "plot_confusion_matrix(cm,[0,1],normalize=True)\n",
    "plt.show()"
   ]
  },
  {
   "cell_type": "code",
   "execution_count": null,
   "metadata": {},
   "outputs": [],
   "source": []
  }
 ],
 "metadata": {
  "kernelspec": {
   "display_name": "Python 3",
   "language": "python",
   "name": "python3"
  },
  "language_info": {
   "codemirror_mode": {
    "name": "ipython",
    "version": 3
   },
   "file_extension": ".py",
   "mimetype": "text/x-python",
   "name": "python",
   "nbconvert_exporter": "python",
   "pygments_lexer": "ipython3",
   "version": "3.6.5"
  }
 },
 "nbformat": 4,
 "nbformat_minor": 2
}
